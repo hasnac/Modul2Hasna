{
 "cells": [
  {
   "cell_type": "code",
   "execution_count": null,
   "id": "f868a0f9-38f2-4dd6-bd33-dd46b6e6291b",
   "metadata": {},
   "outputs": [],
   "source": [
    "from math import *\n",
    "lat1 = math.radians(float(input(\"Masukkan lintang 1 : \")))\n",
    "long1 = math.radians(float(input(\"Masukkan bujur 1 : \")))\n",
    "lat2 = math.radians(float(input(\"Masukkan lintang 2 : \")))\n",
    "long2 = math.radians(float(input(\"masukkan bujur 2 : \")))\n",
    "R = 6371\n",
    "\n",
    "lat = lat2-lat1\n",
    "long = long2-long1\n",
    "a = math.sin(lat/2)**2 + math.cos(lat1)*math.cos(lat2)*math.sin(long/2)**2\n",
    "c = 2 * math.atan2(sqrt(a), sqrt(1-a))\n",
    "d = R*c\n",
    "print(d)"
   ]
  },
  {
   "cell_type": "code",
   "execution_count": null,
   "id": "443d5a23-9951-40ee-8f4c-c7e11930236c",
   "metadata": {},
   "outputs": [],
   "source": []
  }
 ],
 "metadata": {
  "kernelspec": {
   "display_name": "Python 3 (ipykernel)",
   "language": "python",
   "name": "python3"
  },
  "language_info": {
   "codemirror_mode": {
    "name": "ipython",
    "version": 3
   },
   "file_extension": ".py",
   "mimetype": "text/x-python",
   "name": "python",
   "nbconvert_exporter": "python",
   "pygments_lexer": "ipython3",
   "version": "3.12.4"
  }
 },
 "nbformat": 4,
 "nbformat_minor": 5
}
