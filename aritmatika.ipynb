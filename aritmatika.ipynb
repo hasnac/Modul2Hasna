{
 "cells": [
  {
   "cell_type": "code",
   "execution_count": 1,
   "id": "e29690d8-80de-430d-9620-e712ce2ae38f",
   "metadata": {},
   "outputs": [
    {
     "name": "stdin",
     "output_type": "stream",
     "text": [
      "Masukkan nilai a :  20\n",
      "Masukkan nilai b :  4\n"
     ]
    },
    {
     "name": "stdout",
     "output_type": "stream",
     "text": [
      "24\n",
      "16\n",
      "80\n",
      "0\n",
      "5.0\n",
      "1.3010299956639813\n",
      "160000\n"
     ]
    }
   ],
   "source": [
    "from math import log10\n",
    "a = int(input(\"Masukkan nilai a : \"))\n",
    "b = int(input(\"Masukkan nilai b : \"))\n",
    "print(a+b)\n",
    "print(a-b)\n",
    "c = a*b\n",
    "print(c)\n",
    "d = a%b\n",
    "print(d)\n",
    "e = a/b\n",
    "print(e)\n",
    "f = log10(a)\n",
    "print(f)\n",
    "g = a**b\n",
    "print(g)"
   ]
  },
  {
   "cell_type": "code",
   "execution_count": null,
   "id": "7cfc4859-e2ae-41c2-ab4c-c70a8615f225",
   "metadata": {},
   "outputs": [],
   "source": []
  }
 ],
 "metadata": {
  "kernelspec": {
   "display_name": "Python 3 (ipykernel)",
   "language": "python",
   "name": "python3"
  },
  "language_info": {
   "codemirror_mode": {
    "name": "ipython",
    "version": 3
   },
   "file_extension": ".py",
   "mimetype": "text/x-python",
   "name": "python",
   "nbconvert_exporter": "python",
   "pygments_lexer": "ipython3",
   "version": "3.12.4"
  }
 },
 "nbformat": 4,
 "nbformat_minor": 5
}
